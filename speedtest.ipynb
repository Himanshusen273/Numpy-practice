{
 "cells": [
  {
   "cell_type": "code",
   "execution_count": 1,
   "id": "8780b329-b67b-4a7a-8de6-f3df976d74a0",
   "metadata": {},
   "outputs": [
    {
     "name": "stdout",
     "output_type": "stream",
     "text": [
      "0.1105647087097168\n"
     ]
    }
   ],
   "source": [
    "# using python list\n",
    "import numpy as np # all data scientist use numpy as np\n",
    "import time\n",
    "\n",
    "size = 1_000_000\n",
    "l1 = list(range(size))\n",
    "l2 = list(range(size))  # [1,2,....99999] each list\n",
    "\n",
    "start = time.time()# to note down the start time\n",
    "\n",
    "add = [x+y for x,y in zip(l1, l2)]  # adding each element of l1 and l2 by using list comprehension.\n",
    "end = time.time()\n",
    "print( end - start)"
   ]
  },
  {
   "cell_type": "code",
   "execution_count": 2,
   "id": "23529a7d-8174-4f5f-8fb1-cf8a0f474e68",
   "metadata": {},
   "outputs": [
    {
     "name": "stdout",
     "output_type": "stream",
     "text": [
      "0.031539201736450195\n"
     ]
    }
   ],
   "source": [
    "# using numpy array\n",
    "import numpy as np # all data scientist use numpy as np\n",
    "import time\n",
    "\n",
    "size = 1_000_000\n",
    "l1 = np.array(list(range(size)))\n",
    "l2 = np.array(list(range(size)))\n",
    "\n",
    "start = time.time()# to note down the start time\n",
    "\n",
    "add = l1 + l2\n",
    "end = time.time() # to note down the end time\n",
    "print( end - start)\n"
   ]
  },
  {
   "cell_type": "code",
   "execution_count": 3,
   "id": "379cad61-9ad4-4f1e-b1c8-470bc810e5e8",
   "metadata": {},
   "outputs": [],
   "source": [
    "l1 = [1,45,3,10]"
   ]
  },
  {
   "cell_type": "code",
   "execution_count": 4,
   "id": "2aa3c5bc-04bc-4fe1-94a1-be04be8f8111",
   "metadata": {},
   "outputs": [],
   "source": [
    "l2 = [6,45,89,43]"
   ]
  },
  {
   "cell_type": "code",
   "execution_count": 5,
   "id": "2bfaf2ec-ef88-4314-951d-6395ecf177a7",
   "metadata": {},
   "outputs": [
    {
     "data": {
      "text/plain": [
       "[(1, 6), (45, 45), (3, 89), (10, 43)]"
      ]
     },
     "execution_count": 5,
     "metadata": {},
     "output_type": "execute_result"
    }
   ],
   "source": [
    "list(zip(l1,l2))\n"
   ]
  },
  {
   "cell_type": "code",
   "execution_count": 6,
   "id": "ced4c479-b39f-41f9-ae16-1996b9d4ea1e",
   "metadata": {},
   "outputs": [
    {
     "name": "stdout",
     "output_type": "stream",
     "text": [
      "[1 2 3 4 5 6]\n"
     ]
    }
   ],
   "source": [
    "oned = np.array([1,2,3,4,5,6])  # mostly numpy array uses numbers deeply \n",
    "print(oned)"
   ]
  },
  {
   "cell_type": "code",
   "execution_count": 7,
   "id": "f2a76691-b157-4982-91d2-668dbd975882",
   "metadata": {},
   "outputs": [
    {
     "data": {
      "text/plain": [
       "(6,)"
      ]
     },
     "execution_count": 7,
     "metadata": {},
     "output_type": "execute_result"
    }
   ],
   "source": [
    "oned.shape"
   ]
  },
  {
   "cell_type": "code",
   "execution_count": 8,
   "id": "c73b9d26-ecec-4159-9e26-756614f6c358",
   "metadata": {},
   "outputs": [
    {
     "name": "stdout",
     "output_type": "stream",
     "text": [
      "[[1 2 3]\n",
      " [7 8 9]\n",
      " [4 5 6]]\n"
     ]
    }
   ],
   "source": [
    "# 2d array :--\n",
    "arr = np.array([[1,2,3],[7,8,9],[4,5,6,]])# each row contain same number of elements\n",
    "print(arr)"
   ]
  },
  {
   "cell_type": "code",
   "execution_count": 9,
   "id": "93bd2d9c-aeb3-428a-9a56-28320947d92e",
   "metadata": {},
   "outputs": [
    {
     "data": {
      "text/plain": [
       "numpy.ndarray"
      ]
     },
     "execution_count": 9,
     "metadata": {},
     "output_type": "execute_result"
    }
   ],
   "source": [
    "type(arr)  "
   ]
  },
  {
   "cell_type": "code",
   "execution_count": 10,
   "id": "a8ae09d5-3f54-46c2-a3e3-04398de7832a",
   "metadata": {},
   "outputs": [
    {
     "data": {
      "text/plain": [
       "(3, 3)"
      ]
     },
     "execution_count": 10,
     "metadata": {},
     "output_type": "execute_result"
    }
   ],
   "source": [
    "arr.shape # shows rows and columns"
   ]
  },
  {
   "cell_type": "code",
   "execution_count": 11,
   "id": "8e7db043-2420-4925-af98-86a427a36321",
   "metadata": {},
   "outputs": [
    {
     "name": "stdout",
     "output_type": "stream",
     "text": [
      "Python list size: 36056 bytes\n",
      "NumPy array size: 4000 bytes\n"
     ]
    }
   ],
   "source": [
    "import sys\n",
    "import numpy as np\n",
    "\n",
    "# Create a list of 1000 numbers\n",
    "list_data = list(range(1000))\n",
    "\n",
    "# Convert it to a NumPy array\n",
    "numpy_data = np.array(list_data)\n",
    "\n",
    "# Calculate total memory used by Python list (list object + all elements)\n",
    "list_size = sys.getsizeof(list_data) + sum(sys.getsizeof(x) for x in list_data)\n",
    "\n",
    "# Calculate total memory used by NumPy array (just data, since type is fixed)\n",
    "numpy_size = numpy_data.nbytes\n",
    "\n",
    "# Print memory usage\n",
    "print(\"Python list size:\", list_size, \"bytes\")\n",
    "print(\"NumPy array size:\", numpy_size, \"bytes\")\n"
   ]
  },
  {
   "cell_type": "code",
   "execution_count": 12,
   "id": "584eb3e2-b0c1-4367-bdd9-78c719c9ea52",
   "metadata": {},
   "outputs": [
    {
     "name": "stdout",
     "output_type": "stream",
     "text": [
      "72056 bytes\n",
      "8000 bytes\n"
     ]
    }
   ],
   "source": [
    "# for practice and understand the concept of memory efficiency better\n",
    "list_data = list(range(2000))\n",
    "numpy_data = np.array(list_data)\n",
    "ls_size = sys.getsizeof(list_data) + sum(sys.getsizeof(x) for x in list_data)# used generator expression\n",
    "np_size = numpy_data.nbytes\n",
    "print(ls_size,\"bytes\")\n",
    "print(np_size,\"bytes\")"
   ]
  },
  {
   "cell_type": "code",
   "execution_count": 13,
   "id": "21172338-71e3-494a-90c6-1f50f6e15347",
   "metadata": {},
   "outputs": [
    {
     "name": "stdout",
     "output_type": "stream",
     "text": [
      "0.1114194393157959\n"
     ]
    }
   ],
   "source": [
    "lst1 = list(range(1_000_000))\n",
    "st_time = time.time()\n",
    "lst_sq = [x ** 2 for x in lst1]\n",
    "end_time = time.time()\n",
    "print(end_time-st_time)"
   ]
  },
  {
   "cell_type": "code",
   "execution_count": 14,
   "id": "4520de2c-1e76-4223-8422-3ac0b46ac2fb",
   "metadata": {},
   "outputs": [
    {
     "name": "stdout",
     "output_type": "stream",
     "text": [
      "0.0038323402404785156\n"
     ]
    }
   ],
   "source": [
    "arr1 = np.array(lst1)\n",
    "st_time = time.time()\n",
    "np_sq = arr1 ** 2\n",
    "end_time = time.time()\n",
    "print(end_time-st_time)"
   ]
  },
  {
   "cell_type": "code",
   "execution_count": 23,
   "id": "e560df64-0970-44a5-a0e1-d78c3301b321",
   "metadata": {},
   "outputs": [
    {
     "name": "stdout",
     "output_type": "stream",
     "text": [
      "[ 10  11  12  13  14  15  16  17  18  19  20  21  22  23  24  25  26  27\n",
      "  28  29  30  31  32  33  34  35  36  37  38  39  40  41  42  43  44  45\n",
      "  46  47  48  49  50  51  52  53  54  55  56  57  58  59  60  61  62  63\n",
      "  64  65  66  67  68  69  70  71  72  73  74  75  76  77  78  79  80  81\n",
      "  82  83  84  85  86  87  88  89  90  91  92  93  94  95  96  97  98  99\n",
      " 100]\n",
      "(91,)\n"
     ]
    }
   ],
   "source": [
    "arr1 = np.arange(10,101)  # practice excersise\n",
    "print(arr1)\n",
    "print(arr1.shape)"
   ]
  },
  {
   "cell_type": "code",
   "execution_count": 27,
   "id": "00c7e126-b248-4bf1-a927-fd501da72348",
   "metadata": {},
   "outputs": [
    {
     "name": "stdout",
     "output_type": "stream",
     "text": [
      "0.004984617233276367\n"
     ]
    }
   ],
   "source": [
    "l1 = list(range(100_000))\n",
    "l2 = list(range(100_000))\n",
    "st_time = time.time()\n",
    "mul = [x*y for x,y in zip(l1,l2)]\n",
    "end_time = time.time()\n",
    "print(end_time-st_time)\n",
    "\n",
    "       \n"
   ]
  },
  {
   "cell_type": "code",
   "execution_count": 29,
   "id": "4c842bee-8d4b-463c-bb57-b0ecf15679fd",
   "metadata": {},
   "outputs": [
    {
     "name": "stdout",
     "output_type": "stream",
     "text": [
      "0.0020139217376708984\n"
     ]
    }
   ],
   "source": [
    "l1 = np.array(list(range(100_000)))\n",
    "l2 = np.array(list(range(100_000)))\n",
    "st_time = time.time()\n",
    "mul = l1*l2\n",
    "end_time = time.time()\n",
    "print(end_time-st_time)\n",
    "\n",
    "       \n"
   ]
  },
  {
   "cell_type": "code",
   "execution_count": 39,
   "id": "897f1f3b-888f-4b59-8a76-6c25843bf4e2",
   "metadata": {},
   "outputs": [
    {
     "name": "stdout",
     "output_type": "stream",
     "text": [
      "4000000\n",
      "[     0      1      2 ... 999997 999998 999999]\n"
     ]
    }
   ],
   "source": [
    "one_million = np.array(range(1_000_000)) # alternate version np.arange(1_000_000)\n",
    "million_np_array_size = one_million.nbytes\n",
    "print(million_np_array_size)\n",
    "print(one_million)"
   ]
  },
  {
   "cell_type": "code",
   "execution_count": null,
   "id": "e4841af8-96c9-41d8-9d21-7869d6217c0e",
   "metadata": {},
   "outputs": [],
   "source": []
  }
 ],
 "metadata": {
  "kernelspec": {
   "display_name": "Python [conda env:base] *",
   "language": "python",
   "name": "conda-base-py"
  },
  "language_info": {
   "codemirror_mode": {
    "name": "ipython",
    "version": 3
   },
   "file_extension": ".py",
   "mimetype": "text/x-python",
   "name": "python",
   "nbconvert_exporter": "python",
   "pygments_lexer": "ipython3",
   "version": "3.12.7"
  }
 },
 "nbformat": 4,
 "nbformat_minor": 5
}
