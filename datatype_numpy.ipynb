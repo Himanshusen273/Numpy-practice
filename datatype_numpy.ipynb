{
 "cells": [
  {
   "cell_type": "code",
   "execution_count": 2,
   "id": "5b18b831-92be-46b5-8bb8-a7c649aa2ada",
   "metadata": {},
   "outputs": [],
   "source": [
    "import numpy as np\n"
   ]
  },
  {
   "cell_type": "code",
   "execution_count": 3,
   "id": "9ba0bd75-cc28-4566-a4ff-409d92e1ddba",
   "metadata": {},
   "outputs": [],
   "source": [
    "arr = np.array([1,12,34,5,43,54],dtype = np.int64)"
   ]
  },
  {
   "cell_type": "code",
   "execution_count": 4,
   "id": "b203843f-ece2-41bc-9aa7-f56cf3c91dda",
   "metadata": {},
   "outputs": [
    {
     "data": {
      "text/plain": [
       "dtype('int64')"
      ]
     },
     "execution_count": 4,
     "metadata": {},
     "output_type": "execute_result"
    }
   ],
   "source": [
    "arr.dtype"
   ]
  },
  {
   "cell_type": "code",
   "execution_count": 5,
   "id": "078c2724-cbdf-403e-8134-68777ec2b3a0",
   "metadata": {},
   "outputs": [
    {
     "data": {
      "text/plain": [
       "array([ 1., 12., 34.,  5., 43., 54.])"
      ]
     },
     "execution_count": 5,
     "metadata": {},
     "output_type": "execute_result"
    }
   ],
   "source": [
    "arr.astype(\"float64\")"
   ]
  },
  {
   "cell_type": "code",
   "execution_count": 6,
   "id": "44c00ca5-9ec6-4ac0-ab22-d1476d952344",
   "metadata": {},
   "outputs": [
    {
     "name": "stdout",
     "output_type": "stream",
     "text": [
      "36000056\n",
      "4000000\n"
     ]
    }
   ],
   "source": [
    "import sys\n",
    "l1 = list(range(1_000_000))\n",
    "l2 = np.array(l1)\n",
    "list_storage = print(sys.getsizeof(l1) + sum(sys.getsizeof(x) for x in l1))\n",
    "np_storage = print(l2.nbytes)"
   ]
  },
  {
   "cell_type": "code",
   "execution_count": 7,
   "id": "907ad1cc-3ed7-4dfc-ae7c-a28f5b646acd",
   "metadata": {},
   "outputs": [
    {
     "name": "stdout",
     "output_type": "stream",
     "text": [
      "24\n",
      "12\n"
     ]
    }
   ],
   "source": [
    "arr_int64 = np.array([1, 2, 3], dtype=np.int64) \n",
    "arr_int32 = np.array([1, 2, 3], dtype=np.int32)\n",
    "\n",
    "print(arr_int64.nbytes)  # Output: 24 bytes (3 elements * 8 bytes each)\n",
    "print(arr_int32.nbytes)  # Output: 12 bytes (3 elements * 4 bytes each)"
   ]
  },
  {
   "cell_type": "code",
   "execution_count": 8,
   "id": "faf9f5ae-65ed-41ed-86fb-868fa648f0f1",
   "metadata": {},
   "outputs": [],
   "source": [
    "arru = np.array([1,2,3,4,5,6,7], dtype = np.float32)\n"
   ]
  },
  {
   "cell_type": "code",
   "execution_count": 9,
   "id": "74861678-f8ab-4e56-afe2-e6a969ae9ebf",
   "metadata": {},
   "outputs": [
    {
     "name": "stdout",
     "output_type": "stream",
     "text": [
      "[1. 2. 3. 4. 5. 6. 7.]\n"
     ]
    }
   ],
   "source": [
    "print(arru)"
   ]
  },
  {
   "cell_type": "code",
   "execution_count": 10,
   "id": "5baeca13-58db-47f2-a1f4-6d1c6973805a",
   "metadata": {},
   "outputs": [
    {
     "name": "stdout",
     "output_type": "stream",
     "text": [
      "float32\n"
     ]
    }
   ],
   "source": [
    "print(arru.dtype)"
   ]
  },
  {
   "cell_type": "code",
   "execution_count": 11,
   "id": "90158028-8643-4b79-a354-93ac6d222ae8",
   "metadata": {},
   "outputs": [
    {
     "data": {
      "text/plain": [
       "array([1., 2., 3., 4., 5., 6., 7.])"
      ]
     },
     "execution_count": 11,
     "metadata": {},
     "output_type": "execute_result"
    }
   ],
   "source": [
    "arru.astype(\"float64\")"
   ]
  },
  {
   "cell_type": "code",
   "execution_count": 12,
   "id": "d7009159-3a51-4ce0-93c7-8fcd7a37f46f",
   "metadata": {},
   "outputs": [
    {
     "data": {
      "text/plain": [
       "dtype('float32')"
      ]
     },
     "execution_count": 12,
     "metadata": {},
     "output_type": "execute_result"
    }
   ],
   "source": [
    "arru.dtype"
   ]
  },
  {
   "cell_type": "code",
   "execution_count": 13,
   "id": "f3979fc6-cdd3-4d59-9ba0-e5a6e2b23ec4",
   "metadata": {},
   "outputs": [
    {
     "name": "stdout",
     "output_type": "stream",
     "text": [
      "[1.+2.j 3.+4.j 5.+6.j]\n"
     ]
    }
   ],
   "source": [
    "# complex numbers \n",
    "complex_arr = np.array([1+2j, 3+4j, 5+6j], dtype = 'complex128')\n",
    "print(complex_arr)"
   ]
  },
  {
   "cell_type": "code",
   "execution_count": 14,
   "id": "e32403c4-b9fa-4f62-931b-04466d3a1b95",
   "metadata": {},
   "outputs": [
    {
     "data": {
      "text/plain": [
       "(9+12j)"
      ]
     },
     "execution_count": 14,
     "metadata": {},
     "output_type": "execute_result"
    }
   ],
   "source": [
    "complex_arr.sum()"
   ]
  },
  {
   "cell_type": "code",
   "execution_count": 15,
   "id": "5df622bc-fc79-4079-812b-626e6f2fe25a",
   "metadata": {},
   "outputs": [],
   "source": [
    "array = np.array([1,2,3,4,5], dtype = np.int64)"
   ]
  },
  {
   "cell_type": "code",
   "execution_count": 16,
   "id": "80a84609-f5b3-4489-a882-bf64cc0d9142",
   "metadata": {},
   "outputs": [
    {
     "data": {
      "text/plain": [
       "dtype('int64')"
      ]
     },
     "execution_count": 16,
     "metadata": {},
     "output_type": "execute_result"
    }
   ],
   "source": [
    "array.dtype"
   ]
  },
  {
   "cell_type": "code",
   "execution_count": 17,
   "id": "8d2eb201-ebee-4579-babb-b4f2d4bc2e04",
   "metadata": {},
   "outputs": [
    {
     "data": {
      "text/plain": [
       "array([1., 2., 3., 4., 5.], dtype=float32)"
      ]
     },
     "execution_count": 17,
     "metadata": {},
     "output_type": "execute_result"
    }
   ],
   "source": [
    "array.astype('float32')"
   ]
  },
  {
   "cell_type": "code",
   "execution_count": 18,
   "id": "abd899c4-da9b-44d9-bb45-ad9b60afac64",
   "metadata": {},
   "outputs": [
    {
     "data": {
      "text/plain": [
       "dtype('int64')"
      ]
     },
     "execution_count": 18,
     "metadata": {},
     "output_type": "execute_result"
    }
   ],
   "source": [
    "array.dtype"
   ]
  },
  {
   "cell_type": "code",
   "execution_count": 19,
   "id": "227207b6-a6c2-41de-b841-816ac1a3fb0a",
   "metadata": {},
   "outputs": [
    {
     "data": {
      "text/plain": [
       "dtype('int64')"
      ]
     },
     "execution_count": 19,
     "metadata": {},
     "output_type": "execute_result"
    }
   ],
   "source": [
    "array.dtype"
   ]
  },
  {
   "cell_type": "code",
   "execution_count": 23,
   "id": "4626f821-b1ea-49d6-9b87-37ae8c589e53",
   "metadata": {},
   "outputs": [],
   "source": [
    "arru = np.array([1,2,3,4,5,6,7,8 ],dtype = np.int64)"
   ]
  },
  {
   "cell_type": "code",
   "execution_count": 27,
   "id": "14c93706-abc3-4cf9-ae42-5b0bce62313a",
   "metadata": {},
   "outputs": [
    {
     "data": {
      "text/plain": [
       "dtype('int64')"
      ]
     },
     "execution_count": 27,
     "metadata": {},
     "output_type": "execute_result"
    }
   ],
   "source": [
    "arru.dtype"
   ]
  },
  {
   "cell_type": "code",
   "execution_count": 29,
   "id": "ab08df24-b46c-4753-bbca-1e12e92662f8",
   "metadata": {},
   "outputs": [
    {
     "data": {
      "text/plain": [
       "array([ 1, 12, 34,  5, 43, 54])"
      ]
     },
     "execution_count": 29,
     "metadata": {},
     "output_type": "execute_result"
    }
   ],
   "source": [
    "arr.astype(np.int32)"
   ]
  },
  {
   "cell_type": "code",
   "execution_count": 31,
   "id": "51064a9d-688d-45e3-a7d0-17c732289b93",
   "metadata": {},
   "outputs": [
    {
     "data": {
      "text/plain": [
       "dtype('int64')"
      ]
     },
     "execution_count": 31,
     "metadata": {},
     "output_type": "execute_result"
    }
   ],
   "source": [
    "arr.dtype"
   ]
  },
  {
   "cell_type": "code",
   "execution_count": 33,
   "id": "3da52570-e999-4476-8031-d6e4ab2c29e5",
   "metadata": {},
   "outputs": [
    {
     "data": {
      "text/plain": [
       "dtype('int64')"
      ]
     },
     "execution_count": 33,
     "metadata": {},
     "output_type": "execute_result"
    }
   ],
   "source": [
    "arru.dtype"
   ]
  },
  {
   "cell_type": "code",
   "execution_count": null,
   "id": "5c3bb011-c388-4308-b20d-51e83f145566",
   "metadata": {},
   "outputs": [],
   "source": []
  },
  {
   "cell_type": "code",
   "execution_count": null,
   "id": "2e266f54-c39b-4f0c-8de7-d22c01bab044",
   "metadata": {},
   "outputs": [],
   "source": []
  },
  {
   "cell_type": "code",
   "execution_count": null,
   "id": "557b4dee-eaf0-4747-b016-2ba1af8dbf3b",
   "metadata": {},
   "outputs": [],
   "source": []
  },
  {
   "cell_type": "code",
   "execution_count": null,
   "id": "eceed292-9714-4720-a23f-849d44c0dad2",
   "metadata": {},
   "outputs": [],
   "source": []
  }
 ],
 "metadata": {
  "kernelspec": {
   "display_name": "Python [conda env:base] *",
   "language": "python",
   "name": "conda-base-py"
  },
  "language_info": {
   "codemirror_mode": {
    "name": "ipython",
    "version": 3
   },
   "file_extension": ".py",
   "mimetype": "text/x-python",
   "name": "python",
   "nbconvert_exporter": "python",
   "pygments_lexer": "ipython3",
   "version": "3.12.7"
  }
 },
 "nbformat": 4,
 "nbformat_minor": 5
}
