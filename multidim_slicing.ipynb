{
 "cells": [
  {
   "cell_type": "code",
   "execution_count": 1,
   "id": "ed9c725a-a81f-47ea-bc53-ec8e3b33f48f",
   "metadata": {},
   "outputs": [
    {
     "name": "stdout",
     "output_type": "stream",
     "text": [
      "[[1 2 3]\n",
      " [4 5 6]\n",
      " [7 8 9]]\n"
     ]
    }
   ],
   "source": [
    "import numpy as np\n",
    "\n",
    "arr = np.array([[1, 2, 3], \n",
    "                [4, 5, 6], \n",
    "                [7, 8, 9]])\n",
    "\n",
    "print(arr)"
   ]
  },
  {
   "cell_type": "code",
   "execution_count": 2,
   "id": "83c9d624-fc96-469e-8a77-ccf6fe9a31a5",
   "metadata": {},
   "outputs": [
    {
     "data": {
      "text/plain": [
       "array([ 6, 15, 24])"
      ]
     },
     "execution_count": 2,
     "metadata": {},
     "output_type": "execute_result"
    }
   ],
   "source": [
    "np.sum(arr, axis=1) #if axis is 0 (vertical moment) or 1 (horizontal moment)"
   ]
  },
  {
   "cell_type": "code",
   "execution_count": 3,
   "id": "c84946df-4101-420b-925a-0b120a16177d",
   "metadata": {},
   "outputs": [
    {
     "data": {
      "text/plain": [
       "array([12, 15, 18])"
      ]
     },
     "execution_count": 3,
     "metadata": {},
     "output_type": "execute_result"
    }
   ],
   "source": [
    "\n",
    "np.sum(arr, axis=0) "
   ]
  },
  {
   "cell_type": "code",
   "execution_count": 4,
   "id": "f9eb62ca-c701-4507-b598-a991d6420aad",
   "metadata": {},
   "outputs": [
    {
     "data": {
      "text/plain": [
       "array([[11, 12, 13],\n",
       "       [ 1,  2,  3],\n",
       "       [ 4,  5,  6]])"
      ]
     },
     "execution_count": 4,
     "metadata": {},
     "output_type": "execute_result"
    }
   ],
   "source": [
    "two_d = np.array([[11,12,13],\n",
    "          [1,2,3],\n",
    "          [4,5,6]])\n",
    "two_d\n"
   ]
  },
  {
   "cell_type": "code",
   "execution_count": 5,
   "id": "d99d391e-ce3a-43cf-b065-80d60c55a5d1",
   "metadata": {},
   "outputs": [
    {
     "data": {
      "text/plain": [
       "array([16, 19, 22])"
      ]
     },
     "execution_count": 5,
     "metadata": {},
     "output_type": "execute_result"
    }
   ],
   "source": [
    "np.sum(two_d, axis=0) "
   ]
  },
  {
   "cell_type": "code",
   "execution_count": 6,
   "id": "2864d5b5-f449-4c45-b601-714cfc0bcf6e",
   "metadata": {},
   "outputs": [
    {
     "data": {
      "text/plain": [
       "array([36,  6, 15])"
      ]
     },
     "execution_count": 6,
     "metadata": {},
     "output_type": "execute_result"
    }
   ],
   "source": [
    "np.sum(two_d, axis=1) "
   ]
  },
  {
   "cell_type": "code",
   "execution_count": 7,
   "id": "ee23fe28-d8e7-4207-901a-cb9465c7ca0a",
   "metadata": {},
   "outputs": [],
   "source": [
    "# multidimensional indexing in numpy\n",
    "two_d = np.array([[11,12,13], #0\n",
    "                  [1,2,3],    #1\n",
    "                  [4,5,6]])   #2\n",
    "                  #0#1#2            "
   ]
  },
  {
   "cell_type": "code",
   "execution_count": 8,
   "id": "d5269e21-8e7b-4cf4-84d5-32f5e83dc163",
   "metadata": {},
   "outputs": [
    {
     "data": {
      "text/plain": [
       "12"
      ]
     },
     "execution_count": 8,
     "metadata": {},
     "output_type": "execute_result"
    }
   ],
   "source": [
    "two_d[0][1]"
   ]
  },
  {
   "cell_type": "code",
   "execution_count": 9,
   "id": "d66ecd88-0674-4e20-8821-f98f534dfd02",
   "metadata": {},
   "outputs": [
    {
     "data": {
      "text/plain": [
       "12"
      ]
     },
     "execution_count": 9,
     "metadata": {},
     "output_type": "execute_result"
    }
   ],
   "source": [
    "two_d[0,1]"
   ]
  },
  {
   "cell_type": "code",
   "execution_count": 10,
   "id": "6e31215d-fa8d-40b1-99c6-3c214eab093a",
   "metadata": {},
   "outputs": [
    {
     "data": {
      "text/plain": [
       "array([[1, 2],\n",
       "       [4, 5]])"
      ]
     },
     "execution_count": 10,
     "metadata": {},
     "output_type": "execute_result"
    }
   ],
   "source": [
    "two_d[1:3, 0:2]  # [rows, columns] 2nd row and 3rd row , first column and 2nd column"
   ]
  },
  {
   "cell_type": "code",
   "execution_count": 11,
   "id": "15838250-ae50-45da-8397-6ce47cdd4dca",
   "metadata": {},
   "outputs": [
    {
     "name": "stdout",
     "output_type": "stream",
     "text": [
      "(2, 2, 3)\n"
     ]
    }
   ],
   "source": [
    "arr3D = np.array([[[1, 2, 3], \n",
    "                   [4, 5, 6]],\n",
    "                  [[7, 8, 9], \n",
    "                   [10, 11, 12]]])\n",
    "\n",
    "# Output of arr3D.shape is → (depth, rows, columns)\n",
    "print(arr3D.shape)  # Output: (2, 2, 3) "
   ]
  },
  {
   "cell_type": "code",
   "execution_count": 12,
   "id": "fd3ec9de-7644-47ef-9b49-7156c9d0734b",
   "metadata": {},
   "outputs": [
    {
     "data": {
      "text/plain": [
       "9"
      ]
     },
     "execution_count": 12,
     "metadata": {},
     "output_type": "execute_result"
    }
   ],
   "source": [
    "arr3D[1,0,2]  # output is 9 [depth,row,column] "
   ]
  },
  {
   "cell_type": "code",
   "execution_count": 13,
   "id": "2cea3936-d5f9-4df2-89d8-103fe7e1e47f",
   "metadata": {},
   "outputs": [
    {
     "data": {
      "text/plain": [
       "array([[ 4,  5,  6],\n",
       "       [10, 11, 12]])"
      ]
     },
     "execution_count": 13,
     "metadata": {},
     "output_type": "execute_result"
    }
   ],
   "source": [
    "arr3D[:,1,:] # get the 2nd row from both sheets"
   ]
  },
  {
   "cell_type": "code",
   "execution_count": 14,
   "id": "a746345c-52b2-44fd-a283-e05dc9ff476f",
   "metadata": {},
   "outputs": [
    {
     "data": {
      "text/plain": [
       "array([[ 1,  4],\n",
       "       [ 7, 10]])"
      ]
     },
     "execution_count": 14,
     "metadata": {},
     "output_type": "execute_result"
    }
   ],
   "source": [
    "arr3D[:,:,0]  # : printing 1st column of both 2d arrays"
   ]
  },
  {
   "cell_type": "code",
   "execution_count": 15,
   "id": "eb66a2d7-2a71-414c-bb9f-810cbac28eff",
   "metadata": {},
   "outputs": [
    {
     "data": {
      "text/plain": [
       "array([ 5, 11])"
      ]
     },
     "execution_count": 15,
     "metadata": {},
     "output_type": "execute_result"
    }
   ],
   "source": [
    "arr3D[:,1,1] # printing 2nd row and 2nd column of 2d arrays"
   ]
  },
  {
   "cell_type": "code",
   "execution_count": 16,
   "id": "1358ddd7-2a34-4a4a-8417-9b45dabdab7e",
   "metadata": {},
   "outputs": [],
   "source": [
    "# : when you use this all list rows and columns included in slicing"
   ]
  },
  {
   "cell_type": "code",
   "execution_count": 17,
   "id": "42d93b5b-c095-470e-b99b-54c2d5cbb482",
   "metadata": {},
   "outputs": [
    {
     "data": {
      "text/plain": [
       "4"
      ]
     },
     "execution_count": 17,
     "metadata": {},
     "output_type": "execute_result"
    }
   ],
   "source": [
    "arr3D[0,1,0] "
   ]
  },
  {
   "cell_type": "code",
   "execution_count": 18,
   "id": "6ef70c7b-52e4-49d2-9689-bda86887d420",
   "metadata": {},
   "outputs": [
    {
     "name": "stdout",
     "output_type": "stream",
     "text": [
      "[1 7]\n"
     ]
    }
   ],
   "source": [
    "print(arr3D[:,0,0]) # [1,7] output"
   ]
  },
  {
   "cell_type": "code",
   "execution_count": 19,
   "id": "60be533d-c8bd-4258-9856-96cbfca0db93",
   "metadata": {},
   "outputs": [
    {
     "name": "stdout",
     "output_type": "stream",
     "text": [
      "[1 4 7]\n"
     ]
    }
   ],
   "source": [
    "arry2D = np.array([[1,2,3],  # practice \n",
    "                   [4,5,6],\n",
    "                   [7,8,9]])\n",
    "                   \n",
    "print(arry2D[:,0]) # [rows,columns]"
   ]
  },
  {
   "cell_type": "code",
   "execution_count": 20,
   "id": "63ef22d5-5e93-44a5-b310-5fe2fc39b128",
   "metadata": {},
   "outputs": [],
   "source": [
    "# you can also change the value in the 3d array by using arrayname[depth,rows,columns]=value."
   ]
  },
  {
   "cell_type": "code",
   "execution_count": 21,
   "id": "ff8d3c12-103d-4aa0-8db2-72a154d34919",
   "metadata": {},
   "outputs": [
    {
     "name": "stdout",
     "output_type": "stream",
     "text": [
      "[[ 2  5]\n",
      " [ 8 11]]\n"
     ]
    }
   ],
   "source": [
    "print(arr3D[:,:,1])"
   ]
  },
  {
   "cell_type": "code",
   "execution_count": 22,
   "id": "ef27557d-f16e-48f8-b5c2-9e327950df62",
   "metadata": {},
   "outputs": [
    {
     "data": {
      "text/plain": [
       "array([[[ 1,  2,  3],\n",
       "        [ 4,  5,  6]],\n",
       "\n",
       "       [[ 7,  8,  9],\n",
       "        [10, 11, 12]]])"
      ]
     },
     "execution_count": 22,
     "metadata": {},
     "output_type": "execute_result"
    }
   ],
   "source": [
    "arr3D"
   ]
  },
  {
   "cell_type": "code",
   "execution_count": 50,
   "id": "fedb7042-5614-4def-95a4-07e61e6f97ce",
   "metadata": {},
   "outputs": [
    {
     "name": "stdout",
     "output_type": "stream",
     "text": [
      "[1 2 3]\n"
     ]
    }
   ],
   "source": [
    "print(arr3D[0,0,:])"
   ]
  },
  {
   "cell_type": "code",
   "execution_count": null,
   "id": "39b5bc03-661f-4b43-bf17-296f80b9d6eb",
   "metadata": {},
   "outputs": [],
   "source": []
  }
 ],
 "metadata": {
  "kernelspec": {
   "display_name": "Python [conda env:base] *",
   "language": "python",
   "name": "conda-base-py"
  },
  "language_info": {
   "codemirror_mode": {
    "name": "ipython",
    "version": 3
   },
   "file_extension": ".py",
   "mimetype": "text/x-python",
   "name": "python",
   "nbconvert_exporter": "python",
   "pygments_lexer": "ipython3",
   "version": "3.12.7"
  }
 },
 "nbformat": 4,
 "nbformat_minor": 5
}
