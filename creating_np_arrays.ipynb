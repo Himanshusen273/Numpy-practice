{
 "cells": [
  {
   "cell_type": "code",
   "execution_count": 24,
   "id": "bed06fc7-93a5-44ed-b16c-84d041d6d4d6",
   "metadata": {},
   "outputs": [],
   "source": [
    "import numpy as np"
   ]
  },
  {
   "cell_type": "code",
   "execution_count": 15,
   "id": "0b9b8719-2348-4b30-b93e-ecf8310cde31",
   "metadata": {},
   "outputs": [
    {
     "data": {
      "text/plain": [
       "array([[0., 0., 0., 0.],\n",
       "       [0., 0., 0., 0.],\n",
       "       [0., 0., 0., 0.]])"
      ]
     },
     "execution_count": 15,
     "metadata": {},
     "output_type": "execute_result"
    }
   ],
   "source": [
    "np.zeros((3,4)) # three rows and 4 columns"
   ]
  },
  {
   "cell_type": "code",
   "execution_count": 19,
   "id": "bd8d3171-014f-4c1a-a728-b6ff30453b0a",
   "metadata": {},
   "outputs": [
    {
     "data": {
      "text/plain": [
       "array([[1., 1., 1., 1., 1.],\n",
       "       [1., 1., 1., 1., 1.],\n",
       "       [1., 1., 1., 1., 1.]])"
      ]
     },
     "execution_count": 19,
     "metadata": {},
     "output_type": "execute_result"
    }
   ],
   "source": [
    "np.ones((3,5))"
   ]
  },
  {
   "cell_type": "code",
   "execution_count": 33,
   "id": "0e81fc85-fd84-4e65-8c9d-d9341a821466",
   "metadata": {},
   "outputs": [
    {
     "data": {
      "text/plain": [
       "array([[9, 9, 9, 9],\n",
       "       [9, 9, 9, 9],\n",
       "       [9, 9, 9, 9]])"
      ]
     },
     "execution_count": 33,
     "metadata": {},
     "output_type": "execute_result"
    }
   ],
   "source": [
    "np.full((3,4),9)"
   ]
  },
  {
   "cell_type": "code",
   "execution_count": 27,
   "id": "049add54-1ead-4f88-90ec-2c502f4e859f",
   "metadata": {},
   "outputs": [
    {
     "data": {
      "text/plain": [
       "array([[1., 0., 0., 0., 0.],\n",
       "       [0., 1., 0., 0., 0.],\n",
       "       [0., 0., 1., 0., 0.],\n",
       "       [0., 0., 0., 1., 0.],\n",
       "       [0., 0., 0., 0., 1.]])"
      ]
     },
     "execution_count": 27,
     "metadata": {},
     "output_type": "execute_result"
    }
   ],
   "source": [
    "np.eye(5)  # to create identity matrices\n"
   ]
  },
  {
   "cell_type": "code",
   "execution_count": 43,
   "id": "32b0fa90-087a-4920-bf29-f9a9cb76f7c6",
   "metadata": {},
   "outputs": [
    {
     "data": {
      "text/plain": [
       "array([ 1,  9, 17, 25, 33, 41, 49, 57, 65, 73, 81, 89, 97])"
      ]
     },
     "execution_count": 43,
     "metadata": {},
     "output_type": "execute_result"
    }
   ],
   "source": [
    "np.arange(1,100,8)"
   ]
  },
  {
   "cell_type": "code",
   "execution_count": 39,
   "id": "edf92779-7557-48c9-aaa9-3e7efb01c12d",
   "metadata": {},
   "outputs": [
    {
     "data": {
      "text/plain": [
       "array([[1, 3, 4],\n",
       "       [2, 3, 5]])"
      ]
     },
     "execution_count": 39,
     "metadata": {},
     "output_type": "execute_result"
    }
   ],
   "source": [
    "arr1 = np.array([[1,3,4],[2,3,5]])# 2d array\n"
   ]
  },
  {
   "cell_type": "code",
   "execution_count": 41,
   "id": "39cf87dc-9a35-4916-904e-d0c321b09d85",
   "metadata": {},
   "outputs": [
    {
     "data": {
      "text/plain": [
       "array([  1.  ,  25.75,  50.5 ,  75.25, 100.  ])"
      ]
     },
     "execution_count": 41,
     "metadata": {},
     "output_type": "execute_result"
    }
   ],
   "source": [
    "np.linspace(1,100,5) # evenly spaced array deta hain "
   ]
  },
  {
   "cell_type": "code",
   "execution_count": 13,
   "id": "a7334869-8a19-4ff8-9e0e-87e1c7e8cc99",
   "metadata": {},
   "outputs": [],
   "source": [
    "myarr = np.array([[1,3,4],[6,7,8],[9,3,12],[21,13,29]], dtype = 'float32') # setting data type specifically"
   ]
  },
  {
   "cell_type": "code",
   "execution_count": 55,
   "id": "90a4f06f-40b8-4ad5-a624-4acc0c7d89d1",
   "metadata": {},
   "outputs": [
    {
     "data": {
      "text/plain": [
       "array([[ 1.,  3.,  4.],\n",
       "       [ 6.,  7.,  8.],\n",
       "       [ 9.,  3., 12.],\n",
       "       [21., 13., 29.]], dtype=float32)"
      ]
     },
     "execution_count": 55,
     "metadata": {},
     "output_type": "execute_result"
    }
   ],
   "source": [
    "myarr"
   ]
  },
  {
   "cell_type": "code",
   "execution_count": 57,
   "id": "be77f287-4b61-4b44-9799-64e24d8f1a85",
   "metadata": {},
   "outputs": [],
   "source": [
    "n = myarr.astype('float64') # changing data type "
   ]
  },
  {
   "cell_type": "code",
   "execution_count": 59,
   "id": "a688611b-f222-4bda-9eb6-5ee0e893cd7b",
   "metadata": {},
   "outputs": [
    {
     "data": {
      "text/plain": [
       "dtype('float64')"
      ]
     },
     "execution_count": 59,
     "metadata": {},
     "output_type": "execute_result"
    }
   ],
   "source": [
    "n.dtype"
   ]
  },
  {
   "cell_type": "code",
   "execution_count": 61,
   "id": "fca3666f-937d-4bae-8948-0f512d14e2cc",
   "metadata": {},
   "outputs": [
    {
     "data": {
      "text/plain": [
       "dtype('float32')"
      ]
     },
     "execution_count": 61,
     "metadata": {},
     "output_type": "execute_result"
    }
   ],
   "source": [
    "myarr.dtype"
   ]
  },
  {
   "cell_type": "code",
   "execution_count": 63,
   "id": "6685d45e-3d9e-48cd-b351-580368f7f6e2",
   "metadata": {},
   "outputs": [
    {
     "data": {
      "text/plain": [
       "12"
      ]
     },
     "execution_count": 63,
     "metadata": {},
     "output_type": "execute_result"
    }
   ],
   "source": [
    "myarr.size"
   ]
  },
  {
   "cell_type": "code",
   "execution_count": 65,
   "id": "b6b63a57-46f9-4695-9c77-cd48238eda65",
   "metadata": {},
   "outputs": [
    {
     "data": {
      "text/plain": [
       "2"
      ]
     },
     "execution_count": 65,
     "metadata": {},
     "output_type": "execute_result"
    }
   ],
   "source": [
    "myarr.ndim"
   ]
  },
  {
   "cell_type": "code",
   "execution_count": 67,
   "id": "e0800681-3c91-4436-ace1-a53f18bb888d",
   "metadata": {},
   "outputs": [
    {
     "data": {
      "text/plain": [
       "(4, 3)"
      ]
     },
     "execution_count": 67,
     "metadata": {},
     "output_type": "execute_result"
    }
   ],
   "source": [
    "myarr.shape"
   ]
  },
  {
   "cell_type": "code",
   "execution_count": 97,
   "id": "a68aa114-5c71-4f73-8ff4-f477f8f9edb6",
   "metadata": {},
   "outputs": [
    {
     "data": {
      "text/plain": [
       "array([[ 1,  3],\n",
       "       [ 4,  6],\n",
       "       [ 7,  8],\n",
       "       [ 9,  3],\n",
       "       [12, 21],\n",
       "       [13, 29]])"
      ]
     },
     "execution_count": 97,
     "metadata": {},
     "output_type": "execute_result"
    }
   ],
   "source": [
    " myarr = np.array([[1,3,4],[6,7,8],[9,3,12],[21,13,29]])\n",
    "reshaped = myarr.reshape(6,2) # 6 rows and 2 columns\n",
    "reshaped\n"
   ]
  },
  {
   "cell_type": "code",
   "execution_count": 91,
   "id": "84bdec26-3ec8-47d8-ad33-5a8a767d441f",
   "metadata": {},
   "outputs": [
    {
     "data": {
      "text/plain": [
       "array([ 1,  3,  4,  6,  7,  8,  9,  3, 12, 21, 13, 29])"
      ]
     },
     "execution_count": 91,
     "metadata": {},
     "output_type": "execute_result"
    }
   ],
   "source": [
    "myarr.flatten() # converts into one dimensional  array "
   ]
  }
 ],
 "metadata": {
  "kernelspec": {
   "display_name": "Python [conda env:base] *",
   "language": "python",
   "name": "conda-base-py"
  },
  "language_info": {
   "codemirror_mode": {
    "name": "ipython",
    "version": 3
   },
   "file_extension": ".py",
   "mimetype": "text/x-python",
   "name": "python",
   "nbconvert_exporter": "python",
   "pygments_lexer": "ipython3",
   "version": "3.12.7"
  }
 },
 "nbformat": 4,
 "nbformat_minor": 5
}
