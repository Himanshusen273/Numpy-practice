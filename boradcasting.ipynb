{
 "cells": [
  {
   "cell_type": "code",
   "execution_count": 1,
   "id": "629268f3-d8f9-44c5-8ee7-d480108d0864",
   "metadata": {},
   "outputs": [],
   "source": [
    "import numpy as np\n",
    "arry = np.array([1,2,3,4,5,6,7,8,9,10])\n",
    "cube = arry ** 3  # vector9zed operations on numpy"
   ]
  },
  {
   "cell_type": "code",
   "execution_count": 2,
   "id": "1b4f8064-9a4f-4e34-bcb5-0019cb568d39",
   "metadata": {},
   "outputs": [
    {
     "name": "stdout",
     "output_type": "stream",
     "text": [
      "[   1    8   27   64  125  216  343  512  729 1000]\n"
     ]
    }
   ],
   "source": [
    "print(cube)"
   ]
  },
  {
   "cell_type": "code",
   "execution_count": 3,
   "id": "bae58b50-47c2-4c9d-ac25-fb9ca65034fc",
   "metadata": {},
   "outputs": [
    {
     "name": "stdout",
     "output_type": "stream",
     "text": [
      "[[ 1  4  9]\n",
      " [ 4 10 18]]\n"
     ]
    }
   ],
   "source": [
    "# boradcasting\n",
    "arr1 = np.array([[1, 2, 3], [4, 5, 6]])\n",
    "arr2 = np.array([1, 2, 3])\n",
    "\n",
    "result = arr1 * arr2  # Broadcasting arr2 across arr1\n",
    "print(result)\n",
    "# Output: of + operation.\n",
    "# [[2 4 6]\n",
    "#  [5 7 9]]"
   ]
  },
  {
   "cell_type": "code",
   "execution_count": 4,
   "id": "13a0a5ce-f1ee-416d-af9b-76b598380f2f",
   "metadata": {},
   "outputs": [
    {
     "name": "stdout",
     "output_type": "stream",
     "text": [
      "[[-1.41421356 -1.41421356 -1.41421356]\n",
      " [-0.70710678 -0.70710678 -0.70710678]\n",
      " [ 0.          0.          0.        ]\n",
      " [ 0.70710678  0.70710678  0.70710678]\n",
      " [ 1.41421356  1.41421356  1.41421356]]\n"
     ]
    }
   ],
   "source": [
    "# Simulating a dataset (5 samples, 3 features)\n",
    "data = np.array([[10, 20, 30],\n",
    "                 [15, 25, 35],\n",
    "                 [20, 30, 40],\n",
    "                 [25, 35, 45],\n",
    "                 [30, 40, 50]])\n",
    "\n",
    "# Calculating mean and standard deviation for each feature (column)\n",
    "mean = data.mean(axis=0)\n",
    "std = data.std(axis=0)\n",
    "\n",
    "# Normalizing the data using broadcasting\n",
    "normalized_data = (data - mean) / std\n",
    "\n",
    "print(normalized_data)\n"
   ]
  },
  {
   "cell_type": "code",
   "execution_count": 5,
   "id": "1b0f9925-6a29-4588-81af-5df47bbe93b0",
   "metadata": {},
   "outputs": [
    {
     "name": "stdout",
     "output_type": "stream",
     "text": [
      "[ 8 12 16]\n"
     ]
    }
   ],
   "source": [
    "max_array = np.array([[1,2,3],\n",
    "                      [4,5,6], # performing max function on 2D array\n",
    "                     [8,12,16]])\n",
    "result = max_array.max(axis=0)  # columwise max element in the array\n",
    "print(result)"
   ]
  },
  {
   "cell_type": "code",
   "execution_count": 6,
   "id": "34a0147b-8e48-47ab-8861-70db553e1906",
   "metadata": {},
   "outputs": [
    {
     "name": "stdout",
     "output_type": "stream",
     "text": [
      "[10 20 30 40 50 60 70 80]\n"
     ]
    }
   ],
   "source": [
    "kishore = np.array([1,2,3,4,5,6,7,8])\n",
    "result = kishore * 10\n",
    "print(result)   # broadcasting "
   ]
  },
  {
   "cell_type": "code",
   "execution_count": 7,
   "id": "d10138e3-9b8c-4ba5-b399-6c449c392578",
   "metadata": {},
   "outputs": [
    {
     "name": "stdout",
     "output_type": "stream",
     "text": [
      "[50. 50. 50.]\n"
     ]
    }
   ],
   "source": [
    "variance = data.var(axis=0)\n",
    "print(variance)"
   ]
  },
  {
   "cell_type": "code",
   "execution_count": 8,
   "id": "51d6665e-f131-4b33-95cc-776a400d8b5c",
   "metadata": {},
   "outputs": [
    {
     "name": "stdout",
     "output_type": "stream",
     "text": [
      "[  1.    25.75  50.5   75.25 100.  ]\n"
     ]
    }
   ],
   "source": [
    "\n",
    "equal = np.linspace(1,100,5) #\n",
    "print(equal)"
   ]
  },
  {
   "cell_type": "code",
   "execution_count": 9,
   "id": "38599517-6b8a-4992-b307-a87e35d1db44",
   "metadata": {},
   "outputs": [
    {
     "data": {
      "text/plain": [
       "200.0"
      ]
     },
     "execution_count": 9,
     "metadata": {},
     "output_type": "execute_result"
    }
   ],
   "source": [
    "gopal = np.array([10,20,30,40,50])\n",
    "gopal.var()"
   ]
  },
  {
   "cell_type": "code",
   "execution_count": 25,
   "id": "3f480de2-79a3-4b3e-8707-8a13cd7804ee",
   "metadata": {},
   "outputs": [],
   "source": [
    "\n",
    "\n",
    "students = np.array([\n",
    "    [85, 78, 92],  # Student 1\n",
    "    [70, 88, 80],  # Student 2\n",
    "    [90, 95, 94],  # Student 3\n",
    "    [60, 65, 70],  # Student 4\n",
    "    [75, 80, 85]   # Student 5\n",
    "])\n",
    "\n",
    "names = np.array(['Ravi', 'Simran', 'Amit', 'Pooja', 'Neha'])\n",
    "subjects = np.array(['Maths', 'Science', 'English'])\n"
   ]
  },
  {
   "cell_type": "code",
   "execution_count": 29,
   "id": "0cc1946f-e3ed-4dc0-b25e-5a6f6d54e4cb",
   "metadata": {},
   "outputs": [],
   "source": [
    "total = students.sum(axis=1)\n",
    "averages = students.mean(axis=1)\n"
   ]
  },
  {
   "cell_type": "code",
   "execution_count": 33,
   "id": "d493db85-5880-478b-849d-e56ec4f5f50b",
   "metadata": {},
   "outputs": [
    {
     "name": "stdout",
     "output_type": "stream",
     "text": [
      "[255 238 279 195 240]\n"
     ]
    }
   ],
   "source": [
    "print(total)"
   ]
  },
  {
   "cell_type": "code",
   "execution_count": 35,
   "id": "0e5c585a-b223-442d-bbb3-9491ee965be5",
   "metadata": {},
   "outputs": [
    {
     "name": "stdout",
     "output_type": "stream",
     "text": [
      "topper is : Amit\n",
      "2\n"
     ]
    }
   ],
   "source": [
    "topper_index = np.argmax(total) # index of maximum marks\n",
    "print(\"topper is :\", names[topper_index])\n",
    "print(topper_index)"
   ]
  },
  {
   "cell_type": "code",
   "execution_count": 45,
   "id": "a9ded135-8c18-4401-998e-07a1519f2319",
   "metadata": {},
   "outputs": [
    {
     "name": "stdout",
     "output_type": "stream",
     "text": [
      "2\n"
     ]
    }
   ],
   "source": [
    "# subject wise topper\n",
    "english_topper = np.argmax(students[:,2])\n",
    "print(\"english topper is :\", names[english_topper])"
   ]
  },
  {
   "cell_type": "code",
   "execution_count": 100,
   "id": "cb1c3814-86ee-469e-a34d-d75eec3cbd90",
   "metadata": {},
   "outputs": [
    {
     "name": "stdout",
     "output_type": "stream",
     "text": [
      "variance of science marks: 102.16\n"
     ]
    }
   ],
   "source": [
    "variance = np.var(students[:,1])\n",
    "print(\"variance of science marks:\", variance)"
   ]
  },
  {
   "cell_type": "code",
   "execution_count": null,
   "id": "1150e0c6-cca9-4cc4-ba6c-88f103598908",
   "metadata": {},
   "outputs": [],
   "source": []
  },
  {
   "cell_type": "code",
   "execution_count": null,
   "id": "f68194be-9774-4384-b8af-ae8f89a4acb2",
   "metadata": {},
   "outputs": [],
   "source": []
  }
 ],
 "metadata": {
  "kernelspec": {
   "display_name": "Python [conda env:base] *",
   "language": "python",
   "name": "conda-base-py"
  },
  "language_info": {
   "codemirror_mode": {
    "name": "ipython",
    "version": 3
   },
   "file_extension": ".py",
   "mimetype": "text/x-python",
   "name": "python",
   "nbconvert_exporter": "python",
   "pygments_lexer": "ipython3",
   "version": "3.12.7"
  }
 },
 "nbformat": 4,
 "nbformat_minor": 5
}
