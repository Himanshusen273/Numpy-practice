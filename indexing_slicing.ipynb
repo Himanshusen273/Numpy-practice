{
 "cells": [
  {
   "cell_type": "code",
   "execution_count": 1,
   "id": "e861f4de-bc65-4880-a428-39bb3c180145",
   "metadata": {},
   "outputs": [],
   "source": [
    "import numpy as np\n",
    "arr = np.array([[1,2,3],[4,5,6],[7,8,9],[11,12,13]])"
   ]
  },
  {
   "cell_type": "code",
   "execution_count": 2,
   "id": "4db06593-1fb9-47e1-887c-41357bf983e2",
   "metadata": {},
   "outputs": [
    {
     "data": {
      "text/plain": [
       "array([[ 1,  2,  3],\n",
       "       [ 4,  5,  6],\n",
       "       [ 7,  8,  9],\n",
       "       [11, 12, 13]])"
      ]
     },
     "execution_count": 2,
     "metadata": {},
     "output_type": "execute_result"
    }
   ],
   "source": [
    "arr"
   ]
  },
  {
   "cell_type": "code",
   "execution_count": 3,
   "id": "dd3e1d2f-47c9-4464-97a1-f448e3b01c89",
   "metadata": {},
   "outputs": [],
   "source": [
    "flat = arr.flatten()"
   ]
  },
  {
   "cell_type": "code",
   "execution_count": 4,
   "id": "8e144d8f-031f-4220-a75a-e2ceba26c2a5",
   "metadata": {},
   "outputs": [
    {
     "data": {
      "text/plain": [
       "array([ 1,  2,  3,  4,  5,  6,  7,  8,  9, 11, 12, 13])"
      ]
     },
     "execution_count": 4,
     "metadata": {},
     "output_type": "execute_result"
    }
   ],
   "source": [
    "flat"
   ]
  },
  {
   "cell_type": "code",
   "execution_count": 5,
   "id": "ded6c3bd-e3cf-46c3-b239-df60b8c2c470",
   "metadata": {},
   "outputs": [
    {
     "data": {
      "text/plain": [
       "array([4, 5])"
      ]
     },
     "execution_count": 5,
     "metadata": {},
     "output_type": "execute_result"
    }
   ],
   "source": [
    "flat[3:5] # syntax == flat[index : len(array)]"
   ]
  },
  {
   "cell_type": "code",
   "execution_count": 6,
   "id": "4e14591d-a03e-4385-8707-347997f56782",
   "metadata": {},
   "outputs": [
    {
     "data": {
      "text/plain": [
       "array([3, 4, 5])"
      ]
     },
     "execution_count": 6,
     "metadata": {},
     "output_type": "execute_result"
    }
   ],
   "source": [
    "flat[2:5] # just same as [0:5]"
   ]
  },
  {
   "cell_type": "code",
   "execution_count": 7,
   "id": "f133e8ca-3b5c-4160-bc66-dcfbae374bac",
   "metadata": {},
   "outputs": [
    {
     "data": {
      "text/plain": [
       "array([ 4,  5,  6,  7,  8,  9, 11, 12, 13])"
      ]
     },
     "execution_count": 7,
     "metadata": {},
     "output_type": "execute_result"
    }
   ],
   "source": [
    "flat[3:12] # same as [3:12] (st(index) : len(array)"
   ]
  },
  {
   "cell_type": "code",
   "execution_count": 8,
   "id": "299d101c-ec75-4f46-93dc-c9ba1dacfdfc",
   "metadata": {},
   "outputs": [
    {
     "data": {
      "text/plain": [
       "12"
      ]
     },
     "execution_count": 8,
     "metadata": {},
     "output_type": "execute_result"
    }
   ],
   "source": [
    "len(flat)"
   ]
  },
  {
   "cell_type": "code",
   "execution_count": 9,
   "id": "b547c5df-7bb9-4f54-b98e-bcc0fd912a10",
   "metadata": {},
   "outputs": [
    {
     "data": {
      "text/plain": [
       "array([ 1,  3,  5,  7,  9, 12])"
      ]
     },
     "execution_count": 9,
     "metadata": {},
     "output_type": "execute_result"
    }
   ],
   "source": [
    "flat[:: 2]  # every 2nd element "
   ]
  },
  {
   "cell_type": "code",
   "execution_count": 10,
   "id": "f77a8286-20df-4a39-8956-fe9e514e2633",
   "metadata": {},
   "outputs": [
    {
     "data": {
      "text/plain": [
       "array([ 1,  2,  3,  4,  5,  6,  7,  8,  9, 11, 12, 13])"
      ]
     },
     "execution_count": 10,
     "metadata": {},
     "output_type": "execute_result"
    }
   ],
   "source": [
    "# slicing returns a view, not a copy (important)...\n",
    "flat"
   ]
  },
  {
   "cell_type": "code",
   "execution_count": 11,
   "id": "b3dc71bc-69cc-4ccd-bce5-8812dd9b526c",
   "metadata": {},
   "outputs": [],
   "source": [
    "b = flat[3:7] "
   ]
  },
  {
   "cell_type": "code",
   "execution_count": 12,
   "id": "c9923116-2452-47bf-abe5-e71b7db13be5",
   "metadata": {},
   "outputs": [
    {
     "data": {
      "text/plain": [
       "array([4, 5, 6, 7])"
      ]
     },
     "execution_count": 12,
     "metadata": {},
     "output_type": "execute_result"
    }
   ],
   "source": [
    "b"
   ]
  },
  {
   "cell_type": "code",
   "execution_count": 13,
   "id": "60afa88a-d052-4279-a04d-288ebd6ac6e6",
   "metadata": {},
   "outputs": [],
   "source": [
    "b[1]= 56"
   ]
  },
  {
   "cell_type": "code",
   "execution_count": 14,
   "id": "569bcd9c-4fc8-4d06-86bf-0d0bd4d0d85a",
   "metadata": {},
   "outputs": [
    {
     "data": {
      "text/plain": [
       "array([ 4, 56,  6,  7])"
      ]
     },
     "execution_count": 14,
     "metadata": {},
     "output_type": "execute_result"
    }
   ],
   "source": [
    "b"
   ]
  },
  {
   "cell_type": "code",
   "execution_count": 15,
   "id": "26c4b4dc-6fd5-4522-9ce1-e7e6ffd93dd1",
   "metadata": {},
   "outputs": [
    {
     "data": {
      "text/plain": [
       "array([ 1,  2,  3,  4, 56,  6,  7,  8,  9, 11, 12, 13])"
      ]
     },
     "execution_count": 15,
     "metadata": {},
     "output_type": "execute_result"
    }
   ],
   "source": [
    "flat"
   ]
  },
  {
   "cell_type": "code",
   "execution_count": 16,
   "id": "2c52b10a-6f06-43e7-998a-1eeb070e00d3",
   "metadata": {},
   "outputs": [
    {
     "data": {
      "text/plain": [
       "array([1, 2, 3, 4, 5, 6, 7])"
      ]
     },
     "execution_count": 16,
     "metadata": {},
     "output_type": "execute_result"
    }
   ],
   "source": [
    "array = np.array([1,2,3,4,5,6,7])\n",
    "b = array[2:5].copy()  # using copy so changes cannot effect the orignal array\n",
    "b[0] = 34\n",
    "\n",
    "array"
   ]
  },
  {
   "cell_type": "code",
   "execution_count": 17,
   "id": "058ee96c-d19c-41a1-a980-e4a5b77cf853",
   "metadata": {},
   "outputs": [
    {
     "data": {
      "text/plain": [
       "array([34,  4,  5])"
      ]
     },
     "execution_count": 17,
     "metadata": {},
     "output_type": "execute_result"
    }
   ],
   "source": [
    "b"
   ]
  },
  {
   "cell_type": "code",
   "execution_count": 18,
   "id": "fadc7d65-3846-4864-a301-4e1cc13f6963",
   "metadata": {},
   "outputs": [],
   "source": [
    "fancy = np.array([1,2,3,4,5,6,7,8,9,19])"
   ]
  },
  {
   "cell_type": "code",
   "execution_count": 19,
   "id": "17a833c7-2e75-47c7-9442-9795dc48aa6d",
   "metadata": {},
   "outputs": [
    {
     "data": {
      "text/plain": [
       "array([3, 5, 7])"
      ]
     },
     "execution_count": 19,
     "metadata": {},
     "output_type": "execute_result"
    }
   ],
   "source": [
    "fancy[[2,4,6]]  # fancy slicing of above array fancy "
   ]
  },
  {
   "cell_type": "code",
   "execution_count": 20,
   "id": "9da65d81-74c9-4ea1-9242-735ebfa3720a",
   "metadata": {},
   "outputs": [
    {
     "data": {
      "text/plain": [
       "array([ 6,  7,  8,  9, 19])"
      ]
     },
     "execution_count": 20,
     "metadata": {},
     "output_type": "execute_result"
    }
   ],
   "source": [
    "fancy[fancy>5] # boolean masking ( providing a condition)"
   ]
  },
  {
   "cell_type": "code",
   "execution_count": 21,
   "id": "d4168085-c07a-4e45-ade0-b176dffe9975",
   "metadata": {},
   "outputs": [
    {
     "data": {
      "text/plain": [
       "array([2, 4, 6])"
      ]
     },
     "execution_count": 21,
     "metadata": {},
     "output_type": "execute_result"
    }
   ],
   "source": [
    "arru = np.array([1,2,3,4,5,6])\n",
    "arru[[1,3,5]]    # using fancy indexing to extract even numbers"
   ]
  },
  {
   "cell_type": "code",
   "execution_count": 22,
   "id": "c30d659e-170e-4296-9ea0-f210700813fb",
   "metadata": {},
   "outputs": [],
   "source": [
    "arru = np.array([1,2,3,4,5,6,7,8,9,])"
   ]
  },
  {
   "cell_type": "code",
   "execution_count": 23,
   "id": "bc932487-bca2-410a-90dd-3a99d0009feb",
   "metadata": {},
   "outputs": [],
   "source": [
    "reshape = arru.reshape(3,3)"
   ]
  },
  {
   "cell_type": "code",
   "execution_count": 24,
   "id": "0d1545bd-cab5-4e13-885b-4482c9be04d9",
   "metadata": {},
   "outputs": [
    {
     "data": {
      "text/plain": [
       "array([[1, 2, 3],\n",
       "       [4, 5, 6],\n",
       "       [7, 8, 9]])"
      ]
     },
     "execution_count": 24,
     "metadata": {},
     "output_type": "execute_result"
    }
   ],
   "source": [
    "reshape"
   ]
  },
  {
   "cell_type": "code",
   "execution_count": 25,
   "id": "9b5f467b-a69d-44b3-ba26-e42fae491b23",
   "metadata": {},
   "outputs": [],
   "source": [
    "#masking numbers greater than 50\n",
    "more = np.arange(1,100,6)  # output : [1,7,13,...so on]\n"
   ]
  },
  {
   "cell_type": "code",
   "execution_count": 26,
   "id": "202e9ce0-7a10-41d9-8acd-3ecfd4f33c66",
   "metadata": {},
   "outputs": [
    {
     "data": {
      "text/plain": [
       "array([55, 61, 67, 73, 79, 85, 91, 97])"
      ]
     },
     "execution_count": 26,
     "metadata": {},
     "output_type": "execute_result"
    }
   ],
   "source": [
    "more[more>50]  # condition greater than 50 "
   ]
  },
  {
   "cell_type": "code",
   "execution_count": 27,
   "id": "c9715914-e712-47e5-943a-609831935dd6",
   "metadata": {},
   "outputs": [
    {
     "name": "stdout",
     "output_type": "stream",
     "text": [
      "[3 4 5 6]\n",
      "[1 2 3 4 5 6 7 8 9]\n"
     ]
    }
   ],
   "source": [
    "lol = np.array([1,2,3,4,5,6,7,8,9])\n",
    "b = lol[2:6]\n",
    "print(b)\n",
    "print(lol)"
   ]
  },
  {
   "cell_type": "code",
   "execution_count": 28,
   "id": "25db1356-b13b-4f0b-90ce-a0cce6cbb1b7",
   "metadata": {},
   "outputs": [
    {
     "data": {
      "text/plain": [
       "array([[ 1,  2,  3],\n",
       "       [ 4,  5,  6],\n",
       "       [ 7,  8,  9],\n",
       "       [11, 12, 13]])"
      ]
     },
     "execution_count": 28,
     "metadata": {},
     "output_type": "execute_result"
    }
   ],
   "source": []
  },
  {
   "cell_type": "code",
   "execution_count": null,
   "id": "77adfe3b-e7f1-4a55-8c6f-25ee8f59b032",
   "metadata": {},
   "outputs": [],
   "source": []
  }
 ],
 "metadata": {
  "kernelspec": {
   "display_name": "Python [conda env:base] *",
   "language": "python",
   "name": "conda-base-py"
  },
  "language_info": {
   "codemirror_mode": {
    "name": "ipython",
    "version": 3
   },
   "file_extension": ".py",
   "mimetype": "text/x-python",
   "name": "python",
   "nbconvert_exporter": "python",
   "pygments_lexer": "ipython3",
   "version": "3.12.7"
  }
 },
 "nbformat": 4,
 "nbformat_minor": 5
}
